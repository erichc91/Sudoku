{
 "cells": [
  {
   "cell_type": "markdown",
   "metadata": {},
   "source": [
    "# Sudoku as an Integer Linear Program"
   ]
  },
  {
   "cell_type": "code",
   "execution_count": null,
   "metadata": {},
   "outputs": [],
   "source": [
    "using JuMP, GLPK"
   ]
  },
  {
   "cell_type": "markdown",
   "metadata": {},
   "source": [
    "Once the packages are intialized we create our model using the GLPK optimizer and name it model.\n",
    "\n",
    "Secondly we have created an individual variable for each and every instance of the row, column, and the number in that row column spot. So for i-th row, and j-th column there are 9 possible numbers. \n",
    "\n",
    "The last portion of our variable constructor says \"Bin\". This assigns a binary value to every i,j,k. This 1 will be used to determine if that value k is filling that i,j spot."
   ]
  },
  {
   "cell_type": "code",
   "execution_count": null,
   "metadata": {},
   "outputs": [],
   "source": [
    "model = Model(with_optimizer(GLPK.Optimizer))\n",
    "\n",
    "# Number of columns, rows, values\n",
    "\n",
    "@variable(model, x[i=1:9, j=1:9, k=1:9], Bin)\n",
    "# The syntax of this model is such that if any indices of x has a number k it will equal 1"
   ]
  },
  {
   "cell_type": "markdown",
   "metadata": {},
   "source": [
    "The constraints below were written to follow the format of\n",
    "\\begin{equation*}\n",
    "\\sum_{n=1}^n x_{ijk} = 1\n",
    "\\end{equation*}\n",
    "This will ensure for whatever combination of sum i's and sum j's only one k will be equal to 1 and that column or row will have one number. In other words no repeat numbers."
   ]
  },
  {
   "cell_type": "markdown",
   "metadata": {},
   "source": [
    "# Column Constraint"
   ]
  },
  {
   "cell_type": "markdown",
   "metadata": {},
   "source": [
    "The syntax of this constraint is\n",
    "\n",
    "@constraint ( name of Model(),\n",
    "\n",
    "individual name of constraints (which i iterated) ,\n",
    "\n",
    "expression i wanted my constraint to be (i.e. the formula from class)\n",
    ")"
   ]
  },
  {
   "cell_type": "markdown",
   "metadata": {},
   "source": [
    "So as before this column constraint is written as\n",
    "\\begin{equation}\n",
    "\\sum_{i=1}^9 x_{ijk} = 1\\\\ j=1:9\\\\k=1:9\\\\\n",
    "\\end{equation}\n",
    "this implies that as you hold j constant you will iterate through every row for that column one unique k value. So we will do this for j's"
   ]
  },
  {
   "cell_type": "code",
   "execution_count": null,
   "metadata": {},
   "outputs": [],
   "source": [
    "@constraint(model, col[j=1:9,k=1:9], sum(x[i,j,k] for i in 1:9 )==1)"
   ]
  },
  {
   "cell_type": "markdown",
   "metadata": {},
   "source": [
    "JuMP allows you to write the Sudoku constraints and it will automatically add the constraints to a dictionary. I went ahead and set this and called one of the symbolic keys below."
   ]
  },
  {
   "cell_type": "code",
   "execution_count": null,
   "metadata": {},
   "outputs": [],
   "source": [
    "con_dict = model.obj_dict"
   ]
  },
  {
   "cell_type": "code",
   "execution_count": null,
   "metadata": {},
   "outputs": [],
   "source": [
    "con_dict[:col][1]"
   ]
  },
  {
   "cell_type": "markdown",
   "metadata": {},
   "source": [
    "# Row Constraint"
   ]
  },
  {
   "cell_type": "markdown",
   "metadata": {},
   "source": [
    "\\begin{equation}\n",
    "\\sum_{j=1}^9 x_{ijk} = 1, \\\\i=1:9,\\\\k=1:9\\\\\n",
    "\\end{equation}"
   ]
  },
  {
   "cell_type": "code",
   "execution_count": null,
   "metadata": {},
   "outputs": [],
   "source": [
    "@constraint(model,row[i=1:9,k=1:9], sum(x[i,j,k] for j in 1:9 )==1)"
   ]
  },
  {
   "cell_type": "markdown",
   "metadata": {},
   "source": [
    "# Completely Filled Sudoku Constraint"
   ]
  },
  {
   "cell_type": "markdown",
   "metadata": {},
   "source": [
    "\\begin{equation}\n",
    "\\sum_{k=1}^9 x_{ijk} = 1, \\\\i=1:9,\\\\j=1:9\\\\\n",
    "\\end{equation}\n",
    "\n",
    "This simply says that every index has \"some\" value one through nine. In other words does the spot have an number? Yes, then x of ijk equals 1"
   ]
  },
  {
   "cell_type": "code",
   "execution_count": null,
   "metadata": {},
   "outputs": [],
   "source": [
    "@constraint(model, filled[i=1:9,j=1:9], sum(x[i,j,k] for k in 1:9)==1)"
   ]
  },
  {
   "cell_type": "markdown",
   "metadata": {},
   "source": [
    "# Sub Matrices  Sudoku Constraint"
   ]
  },
  {
   "cell_type": "markdown",
   "metadata": {},
   "source": [
    "\\begin{equation}\n",
    "\\sum_{j=mq-m+1}^{mq} \\sum_{i=mp-m+1}^{mp} x_{ijk} = 1, \\\\k=1:9,\\\\p=1:m\\\\q=1:m\\\\\n",
    "\\end{equation}\n",
    "\n",
    "Admittedly I had some trouble with this constraint and as I was under a time constraint I wrote this in brute force fashion. The constraints have their own individual names that outline their index position in the 2-dimensional array Sudoku."
   ]
  },
  {
   "cell_type": "code",
   "execution_count": null,
   "metadata": {},
   "outputs": [],
   "source": [
    "@constraint(model, submatUL[k=1:9], sum(sum(x[1:3,1:3,k]))==1)\n",
    "@constraint(model, submatUM[k=1:9], sum(sum(x[1:3,4:6,k]))==1)\n",
    "@constraint(model, submatUR[k=1:9], sum(sum(x[1:3,7:9,k]))==1)\n",
    "\n",
    "@constraint(model, submatML[k=1:9], sum(sum(x[4:6,1:3,k]))==1)\n",
    "@constraint(model, submatMM[k=1:9], sum(sum(x[4:6,4:6,k]))==1)\n",
    "@constraint(model, submatMR[k=1:9], sum(sum(x[4:6,7:9,k]))==1)\n",
    "\n",
    "@constraint(model, submatLL[k=1:9], sum(sum(x[7:9,1:3,k]))==1)\n",
    "@constraint(model, submatLM[k=1:9], sum(sum(x[7:9,4:6,k]))==1)\n",
    "@constraint(model, submatLR[k=1:9], sum(sum(x[7:9,7:9,k]))==1)"
   ]
  },
  {
   "cell_type": "markdown",
   "metadata": {},
   "source": [
    "# Diagonal Constraint"
   ]
  },
  {
   "cell_type": "markdown",
   "metadata": {},
   "source": [
    "\n",
    "This below is the Top to Down diagonal where every row and column share the same index value.\n",
    "\\begin{equation}\n",
    "\\sum_{i=1}^9 x_{ijk} = 1, \\\\j=1:9,\\\\k=1:9\\\\\n",
    "\\end{equation}\n",
    "\n",
    "This below is the reverse index starting from the last row and the first column and ending in the first row and last column.\n",
    "\\begin{equation}\n",
    "\\sum_{i=1}^9 x_{ijk} = 1, \\\\j=9:1,\\\\k=1:9\\\\\n",
    "\\end{equation}"
   ]
  },
  {
   "cell_type": "code",
   "execution_count": null,
   "metadata": {},
   "outputs": [],
   "source": [
    "row_DT = []\n",
    "for i in 9:-1:1\n",
    "    append!(row_DT,i)\n",
    "end\n",
    "\n",
    "\n",
    "col_DT = []\n",
    "for j in 1:9\n",
    "    append!(col_DT,j)\n",
    "end\n",
    "\n",
    "@constraint(model, diagonalDT[k=1:9], sum(sum(x[row_DT[i],col_DT[i],k] for i in 1:9))==1)"
   ]
  },
  {
   "cell_type": "code",
   "execution_count": null,
   "metadata": {},
   "outputs": [],
   "source": [
    "@constraint(model, diagonalTD[k=1:9], sum(sum(x[i,i,k] for i in 1:9))==1)"
   ]
  },
  {
   "cell_type": "code",
   "execution_count": null,
   "metadata": {},
   "outputs": [],
   "source": [
    "constraint_dict = model.obj_dict"
   ]
  },
  {
   "cell_type": "code",
   "execution_count": null,
   "metadata": {},
   "outputs": [],
   "source": [
    "constraint_dict[:diagonalDT]"
   ]
  },
  {
   "cell_type": "code",
   "execution_count": null,
   "metadata": {},
   "outputs": [],
   "source": [
    "initial_grid = [\n",
    "    3 0 0 0 0 0 0 0 9;\n",
    "    0 0 0 9 0 0 0 7 5;\n",
    "    0 0 0 0 0 0 0 0 0;\n",
    "    0 0 4 8 0 6 0 0 2;\n",
    "    5 0 0 1 0 0 0 0 0;\n",
    "    8 0 6 0 3 0 4 5 0;\n",
    "    0 0 8 0 0 0 0 0 0;\n",
    "    0 0 0 0 0 0 0 0 0;\n",
    "    0 0 0 0 0 0 0 3 0;\n",
    "]\n",
    "\n",
    "sol_grid = initial_grid[:,:]"
   ]
  },
  {
   "cell_type": "markdown",
   "metadata": {},
   "source": [
    "# Tuning on the 'x[i,j,k]' values from the intial given soduko."
   ]
  },
  {
   "cell_type": "markdown",
   "metadata": {},
   "source": [
    "This cell below will take the intial solution from the matrix above and turn those specific x[i,j,k] constraints on **AS** constraints"
   ]
  },
  {
   "cell_type": "code",
   "execution_count": null,
   "metadata": {},
   "outputs": [],
   "source": [
    "for i=1:9\n",
    "    for j=1:9\n",
    "        if sol_grid[i,j]!=0\n",
    "            @constraint(model, (x[i,j,sol_grid[i,j]])==1)\n",
    "        end\n",
    "    end\n",
    "end"
   ]
  },
  {
   "cell_type": "code",
   "execution_count": null,
   "metadata": {},
   "outputs": [],
   "source": [
    "optimize!(model)"
   ]
  },
  {
   "cell_type": "markdown",
   "metadata": {},
   "source": [
    "This optimize command is straightforward it finds all feasible solutions and below I have written it so that for every feasible number in the vsariable set it extracts the k value and places it in the 0 or \"empty\" spaces in the Sudoku."
   ]
  },
  {
   "cell_type": "code",
   "execution_count": null,
   "metadata": {
    "scrolled": true
   },
   "outputs": [],
   "source": [
    "turned_on = JuMP.value.(x)\n",
    "sol = zeros(Int,9,9)\n",
    "for i in 1:9\n",
    "    for j in 1:9\n",
    "        for k in 1:9\n",
    "            if turned_on[i,j,k]==1\n",
    "                sol[i,j]=k\n",
    "            end\n",
    "        end\n",
    "    end\n",
    "end\n",
    "sol"
   ]
  },
  {
   "cell_type": "code",
   "execution_count": null,
   "metadata": {},
   "outputs": [],
   "source": []
  }
 ],
 "metadata": {
  "kernelspec": {
   "display_name": "Julia 1.1.0",
   "language": "julia",
   "name": "julia-1.1"
  },
  "language_info": {
   "file_extension": ".jl",
   "mimetype": "application/julia",
   "name": "julia",
   "version": "1.1.0"
  }
 },
 "nbformat": 4,
 "nbformat_minor": 2
}
